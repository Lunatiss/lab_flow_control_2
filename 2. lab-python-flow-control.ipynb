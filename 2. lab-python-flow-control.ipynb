{
 "cells": [
  {
   "cell_type": "markdown",
   "id": "d3bfc191-8885-42ee-b0a0-bbab867c6f9f",
   "metadata": {
    "tags": []
   },
   "source": [
    "# Lab | Flow Control"
   ]
  },
  {
   "cell_type": "markdown",
   "id": "3851fcd1-cf98-4653-9c89-e003b7ec9400",
   "metadata": {},
   "source": [
    "## Exercise: Managing Customer Orders Optimized\n",
    "\n",
    "In the last lab, you were starting an online store that sells various products. To ensure smooth operations, you developed a program that manages customer orders and inventory.\n",
    "\n",
    "You did so without using flow control. Let's go a step further and improve this code.\n",
    "\n",
    "Follow the steps below to complete the exercise:\n",
    "\n",
    "1. Look at your code from the lab data structures, and improve repeated code with loops.\n",
    "\n",
    "2. Instead of asking the user to input the name of three products that a customer wants to order, do the following:\n",
    "    \n",
    "    a. Prompt the user to enter the name of a product that a customer wants to order.\n",
    "    \n",
    "    b. Add the product name to the \"customer_orders\" set.\n",
    "    \n",
    "    c. Ask the user if they want to add another product (yes/no).\n",
    "    \n",
    "    d. Continue the loop until the user does not want to add another product.\n",
    "\n",
    "3. Instead of updating the inventory by subtracting 1 from the quantity of each product, only do it for  the products that were ordered (those in \"customer_orders\")."
   ]
  },
  {
   "cell_type": "code",
   "execution_count": 1,
   "id": "815b5ab9-fe2a-4ce7-9def-eb1ba8f7561d",
   "metadata": {},
   "outputs": [
    {
     "name": "stdin",
     "output_type": "stream",
     "text": [
      "Enter the quantity of t-shirts available in inventory:  10\n",
      "Enter the quantity of mugs available in inventory:  25\n",
      "Enter the quantity of hats available in inventory:  15\n",
      "Enter the quantity of books available in inventory:  33\n",
      "Enter the quantity of keychains available in inventory:  10\n"
     ]
    }
   ],
   "source": [
    "products = [\"t-shirt\", \"mug\", \"hat\", \"book\", \"keychain\"]\n",
    "inventory = {} \n",
    "for product in products:\n",
    "    quantity = input(f\"Enter the quantity of {product}s available in inventory: \")\n",
    "    inventory[product] = int(quantity)"
   ]
  },
  {
   "cell_type": "code",
   "execution_count": 31,
   "id": "22cdda4e-b5ba-4b0b-9a1b-324e2b376c0e",
   "metadata": {},
   "outputs": [
    {
     "name": "stdin",
     "output_type": "stream",
     "text": [
      "Enter a customer order:  book\n",
      "Do you want to add another product:  yes\n",
      "Enter the name of the product:  computer\n"
     ]
    },
    {
     "name": "stdout",
     "output_type": "stream",
     "text": [
      "This product is not available\n"
     ]
    },
    {
     "name": "stdin",
     "output_type": "stream",
     "text": [
      "Do you want to add another product (yes/no):  yes\n",
      "Enter the name of the product:  t-shirt\n",
      "Do you want to add another product (yes/no):  no\n"
     ]
    },
    {
     "name": "stdout",
     "output_type": "stream",
     "text": [
      "Customer orders: {'book', 't-shirt'}\n"
     ]
    }
   ],
   "source": [
    "#2. Instead of asking the user to input the name of three products that a customer wants to order, do the following:\n",
    "\n",
    "customer_orders = set()\n",
    "\n",
    "customer_order = input(\"Enter a customer order: \")\n",
    "if customer_order in products:\n",
    "    customer_orders.add(customer_order)\n",
    "else:\n",
    "    print(\"This product is not available\")\n",
    "\n",
    "other_product = input(\"Do you want to add another product: \")\n",
    "\n",
    "while other_product.lower() == \"yes\":\n",
    "    new_product = input(\"Enter the name of the product: \")\n",
    "    if new_product in products:\n",
    "        customer_orders.add(new_product)\n",
    "    else:\n",
    "        print(\"This product is not available\")\n",
    "    other_product = input(\"Do you want to add another product: \")\n",
    "\n",
    "print(\"Customer orders:\", customer_orders)"
   ]
  },
  {
   "cell_type": "code",
   "execution_count": 32,
   "id": "2b16ff83-e66e-4bc4-9c53-9929009ed3c4",
   "metadata": {},
   "outputs": [
    {
     "name": "stdout",
     "output_type": "stream",
     "text": [
      "{'t-shirt': 9, 'mug': 25, 'hat': 15, 'book': 32, 'keychain': 10}\n"
     ]
    }
   ],
   "source": [
    "#3. Instead of updating the inventory by subtracting 1 from the quantity of each product, \n",
    "#only do it for the products that were ordered (those in \"customer_orders\").\n",
    "\n",
    "for product in customer_orders:\n",
    "    inventory[product] -= 1\n",
    "\n",
    "print(inventory)"
   ]
  },
  {
   "cell_type": "code",
   "execution_count": null,
   "id": "f814a6c2-e7b3-4176-b906-655743910dfb",
   "metadata": {},
   "outputs": [],
   "source": []
  }
 ],
 "metadata": {
  "kernelspec": {
   "display_name": "Python 3 (ipykernel)",
   "language": "python",
   "name": "python3"
  },
  "language_info": {
   "codemirror_mode": {
    "name": "ipython",
    "version": 3
   },
   "file_extension": ".py",
   "mimetype": "text/x-python",
   "name": "python",
   "nbconvert_exporter": "python",
   "pygments_lexer": "ipython3",
   "version": "3.11.7"
  }
 },
 "nbformat": 4,
 "nbformat_minor": 5
}
